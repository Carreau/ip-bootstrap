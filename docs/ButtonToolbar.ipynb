{
 "metadata": {
  "kernelspec": {
   "codemirror_mode": {
    "name": "ipython",
    "version": 2
   },
   "display_name": "IPython (Python 2)",
   "language": "python",
   "name": "python2"
  },
  "name": "",
  "signature": "sha256:a2e0598b98bfa60326df6b69739a8b09a8681ee93e1de14aeaed130f192db336"
 },
 "nbformat": 3,
 "nbformat_minor": 0,
 "worksheets": [
  {
   "cells": [
    {
     "cell_type": "markdown",
     "metadata": {},
     "source": [
      "# [Button Toolbar](http://getbootstrap.com/components/#btn-groups-toolbar)\n",
      "\n",
      "Will nicely show:\n",
      "- [Buttons](./Button.ipynb)\n",
      "- [ButtonGroup](./ButtonGroup.ipynb)\n",
      "\n",
      "And most other Bootstrap controls."
     ]
    },
    {
     "cell_type": "code",
     "collapsed": false,
     "input": [
      "from IPython.html import widgets\n",
      "from ipbs.widgets import (\n",
      "    Button,\n",
      "    ButtonGroup,\n",
      "    ButtonToolbar,\n",
      ")\n",
      "import ipbs.widgets.bootstrap as bs"
     ],
     "language": "python",
     "metadata": {},
     "outputs": [],
     "prompt_number": 1
    },
    {
     "cell_type": "code",
     "collapsed": false,
     "input": [
      "groups = [\n",
      "    ButtonGroup(children=[\n",
      "        Button(description=x) for x in [\"foo\", \"bar\", \"baz\"]\n",
      "    ]) for g in range(3)\n",
      "    ]\n",
      "bar = ButtonToolbar(children=groups + [widgets.Dropdown()])"
     ],
     "language": "python",
     "metadata": {},
     "outputs": [
      {
       "javascript": [
        "IPython.load_extensions(\"ipbs/js/ButtonView\");"
       ],
       "metadata": {},
       "output_type": "display_data",
       "text": [
        "<IPython.core.display.Javascript object>"
       ]
      },
      {
       "javascript": [
        "IPython.load_extensions(\"ipbs/js/ButtonView\");"
       ],
       "metadata": {},
       "output_type": "display_data",
       "text": [
        "<IPython.core.display.Javascript object>"
       ]
      },
      {
       "javascript": [
        "IPython.load_extensions(\"ipbs/js/ButtonView\");"
       ],
       "metadata": {},
       "output_type": "display_data",
       "text": [
        "<IPython.core.display.Javascript object>"
       ]
      },
      {
       "javascript": [
        "IPython.load_extensions(\"ipbs/js/ButtonGroupView\");"
       ],
       "metadata": {},
       "output_type": "display_data",
       "text": [
        "<IPython.core.display.Javascript object>"
       ]
      },
      {
       "javascript": [
        "IPython.load_extensions(\"ipbs/js/ButtonView\");"
       ],
       "metadata": {},
       "output_type": "display_data",
       "text": [
        "<IPython.core.display.Javascript object>"
       ]
      },
      {
       "javascript": [
        "IPython.load_extensions(\"ipbs/js/ButtonView\");"
       ],
       "metadata": {},
       "output_type": "display_data",
       "text": [
        "<IPython.core.display.Javascript object>"
       ]
      },
      {
       "javascript": [
        "IPython.load_extensions(\"ipbs/js/ButtonView\");"
       ],
       "metadata": {},
       "output_type": "display_data",
       "text": [
        "<IPython.core.display.Javascript object>"
       ]
      },
      {
       "javascript": [
        "IPython.load_extensions(\"ipbs/js/ButtonGroupView\");"
       ],
       "metadata": {},
       "output_type": "display_data",
       "text": [
        "<IPython.core.display.Javascript object>"
       ]
      },
      {
       "javascript": [
        "IPython.load_extensions(\"ipbs/js/ButtonView\");"
       ],
       "metadata": {},
       "output_type": "display_data",
       "text": [
        "<IPython.core.display.Javascript object>"
       ]
      },
      {
       "javascript": [
        "IPython.load_extensions(\"ipbs/js/ButtonView\");"
       ],
       "metadata": {},
       "output_type": "display_data",
       "text": [
        "<IPython.core.display.Javascript object>"
       ]
      },
      {
       "javascript": [
        "IPython.load_extensions(\"ipbs/js/ButtonView\");"
       ],
       "metadata": {},
       "output_type": "display_data",
       "text": [
        "<IPython.core.display.Javascript object>"
       ]
      },
      {
       "javascript": [
        "IPython.load_extensions(\"ipbs/js/ButtonGroupView\");"
       ],
       "metadata": {},
       "output_type": "display_data",
       "text": [
        "<IPython.core.display.Javascript object>"
       ]
      },
      {
       "javascript": [
        "IPython.load_extensions(\"ipbs/js/ButtonToolbarView\");"
       ],
       "metadata": {},
       "output_type": "display_data",
       "text": [
        "<IPython.core.display.Javascript object>"
       ]
      }
     ],
     "prompt_number": 3
    },
    {
     "cell_type": "markdown",
     "metadata": {},
     "source": [
      "Display the widget:"
     ]
    },
    {
     "cell_type": "code",
     "collapsed": false,
     "input": [
      "bar"
     ],
     "language": "python",
     "metadata": {},
     "outputs": [],
     "prompt_number": 4
    }
   ],
   "metadata": {}
  }
 ]
}