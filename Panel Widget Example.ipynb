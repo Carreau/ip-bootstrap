{
 "metadata": {
  "kernelspec": {
   "codemirror_mode": {
    "name": "ipython",
    "version": 2
   },
   "display_name": "IPython (Python 2)",
   "language": "python",
   "name": "python2"
  },
  "name": "",
  "signature": "sha256:b1faf4657ab769eca8e5d2bd369b923bf15caf0cfc48eaa81eaba044983b2a8c"
 },
 "nbformat": 3,
 "nbformat_minor": 0,
 "worksheets": [
  {
   "cells": [
    {
     "cell_type": "markdown",
     "metadata": {},
     "source": [
      "# Widget: Panel"
     ]
    },
    {
     "cell_type": "markdown",
     "metadata": {},
     "source": [
      "> <i class=\"fa fa-info-circle fa-2x text-primary\"></i> Execute each of these cells in order, such as with <label class=\"label label-default\">Shift+Enter</label>"
     ]
    },
    {
     "cell_type": "markdown",
     "metadata": {},
     "source": [
      "First, load `Panel` from your module:"
     ]
    },
    {
     "cell_type": "code",
     "collapsed": false,
     "input": [
      "from IPython.html import widgets\n",
      "from ipbs.widgets import Panel\n",
      "import ipbs.widgets.bootstrap as bs"
     ],
     "language": "python",
     "metadata": {},
     "outputs": [],
     "prompt_number": 5
    },
    {
     "cell_type": "markdown",
     "metadata": {},
     "source": [
      "Then, create an instance of `Panel`:"
     ]
    },
    {
     "cell_type": "code",
     "collapsed": false,
     "input": [
      "panel = Panel(title=\"Your Valued Comments\", body=\"TBD\", context=bs.Context.info)"
     ],
     "language": "python",
     "metadata": {},
     "outputs": [
      {
       "javascript": [
        "$(\"head\").append($(\"<link/>\").attr({\n",
        "  rel:  \"stylesheet\",\n",
        "  type: \"text/css\",\n",
        "  href: \"/nbextensions/ipbs/css/PanelView.css\"\n",
        "}));\n",
        "IPython.load_extensions(\"ipbs/js/PanelView\");"
       ],
       "metadata": {},
       "output_type": "display_data",
       "text": [
        "<IPython.core.display.Javascript object>"
       ]
      }
     ],
     "prompt_number": 11
    },
    {
     "cell_type": "markdown",
     "metadata": {},
     "source": [
      "Display the widget:"
     ]
    },
    {
     "cell_type": "code",
     "collapsed": false,
     "input": [
      "panel"
     ],
     "language": "python",
     "metadata": {},
     "outputs": [],
     "prompt_number": 12
    },
    {
     "cell_type": "code",
     "collapsed": false,
     "input": [
      "from IPython.external.mathjax import install_mathjax\n",
      "install_mathjax()"
     ],
     "language": "python",
     "metadata": {},
     "outputs": []
    },
    {
     "cell_type": "code",
     "collapsed": false,
     "input": [],
     "language": "python",
     "metadata": {},
     "outputs": []
    }
   ],
   "metadata": {}
  }
 ]
}