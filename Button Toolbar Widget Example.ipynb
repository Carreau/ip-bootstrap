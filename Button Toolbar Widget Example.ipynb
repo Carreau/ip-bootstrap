{
 "metadata": {
  "kernelspec": {
   "codemirror_mode": {
    "name": "ipython",
    "version": 2
   },
   "display_name": "IPython (Python 2)",
   "language": "python",
   "name": "python2"
  },
  "name": "",
  "signature": "sha256:ebed472071c310f36536f61a315254c8cb90c0174ce2a1a220e0adf76ef164a3"
 },
 "nbformat": 3,
 "nbformat_minor": 0,
 "worksheets": [
  {
   "cells": [
    {
     "cell_type": "markdown",
     "metadata": {},
     "source": [
      "# Widget: [Button Toolbar](http://getbootstrap.com/components/#btn-groups-toolbar)"
     ]
    },
    {
     "cell_type": "code",
     "collapsed": false,
     "input": [
      "from IPython.html import widgets\n",
      "from ipbs.widgets import (\n",
      "    Button,\n",
      "    ButtonGroup,\n",
      "    ButtonToolbar,\n",
      ")\n",
      "import ipbs.widgets.bootstrap as bs"
     ],
     "language": "python",
     "metadata": {},
     "outputs": [],
     "prompt_number": 13
    },
    {
     "cell_type": "code",
     "collapsed": false,
     "input": [
      "bar = ButtonToolbar(children=[\n",
      "    ButtonGroup(children=[\n",
      "        Button(description=x) for x in [\"foo\", \"bar\", \"baz\"]\n",
      "    ]) for g in range(3)\n",
      "    ])"
     ],
     "language": "python",
     "metadata": {},
     "outputs": [
      {
       "javascript": [
        "IPython.load_extensions(\"ipbs/js/ButtonView\");"
       ],
       "metadata": {},
       "output_type": "display_data",
       "text": [
        "<IPython.core.display.Javascript object>"
       ]
      },
      {
       "javascript": [
        "IPython.load_extensions(\"ipbs/js/ButtonView\");"
       ],
       "metadata": {},
       "output_type": "display_data",
       "text": [
        "<IPython.core.display.Javascript object>"
       ]
      },
      {
       "javascript": [
        "IPython.load_extensions(\"ipbs/js/ButtonView\");"
       ],
       "metadata": {},
       "output_type": "display_data",
       "text": [
        "<IPython.core.display.Javascript object>"
       ]
      },
      {
       "javascript": [
        "IPython.load_extensions(\"ipbs/js/ButtonGroupView\");"
       ],
       "metadata": {},
       "output_type": "display_data",
       "text": [
        "<IPython.core.display.Javascript object>"
       ]
      },
      {
       "javascript": [
        "IPython.load_extensions(\"ipbs/js/ButtonView\");"
       ],
       "metadata": {},
       "output_type": "display_data",
       "text": [
        "<IPython.core.display.Javascript object>"
       ]
      },
      {
       "javascript": [
        "IPython.load_extensions(\"ipbs/js/ButtonView\");"
       ],
       "metadata": {},
       "output_type": "display_data",
       "text": [
        "<IPython.core.display.Javascript object>"
       ]
      },
      {
       "javascript": [
        "IPython.load_extensions(\"ipbs/js/ButtonView\");"
       ],
       "metadata": {},
       "output_type": "display_data",
       "text": [
        "<IPython.core.display.Javascript object>"
       ]
      },
      {
       "javascript": [
        "IPython.load_extensions(\"ipbs/js/ButtonGroupView\");"
       ],
       "metadata": {},
       "output_type": "display_data",
       "text": [
        "<IPython.core.display.Javascript object>"
       ]
      },
      {
       "javascript": [
        "IPython.load_extensions(\"ipbs/js/ButtonView\");"
       ],
       "metadata": {},
       "output_type": "display_data",
       "text": [
        "<IPython.core.display.Javascript object>"
       ]
      },
      {
       "javascript": [
        "IPython.load_extensions(\"ipbs/js/ButtonView\");"
       ],
       "metadata": {},
       "output_type": "display_data",
       "text": [
        "<IPython.core.display.Javascript object>"
       ]
      },
      {
       "javascript": [
        "IPython.load_extensions(\"ipbs/js/ButtonView\");"
       ],
       "metadata": {},
       "output_type": "display_data",
       "text": [
        "<IPython.core.display.Javascript object>"
       ]
      },
      {
       "javascript": [
        "IPython.load_extensions(\"ipbs/js/ButtonGroupView\");"
       ],
       "metadata": {},
       "output_type": "display_data",
       "text": [
        "<IPython.core.display.Javascript object>"
       ]
      },
      {
       "javascript": [
        "IPython.load_extensions(\"ipbs/js/ButtonToolbarView\");"
       ],
       "metadata": {},
       "output_type": "display_data",
       "text": [
        "<IPython.core.display.Javascript object>"
       ]
      }
     ],
     "prompt_number": 14
    },
    {
     "cell_type": "markdown",
     "metadata": {},
     "source": [
      "Display the widget:"
     ]
    },
    {
     "cell_type": "code",
     "collapsed": false,
     "input": [
      "bar"
     ],
     "language": "python",
     "metadata": {},
     "outputs": [],
     "prompt_number": 15
    }
   ],
   "metadata": {}
  }
 ]
}